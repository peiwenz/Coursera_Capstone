{
 "cells": [
  {
   "cell_type": "markdown",
   "metadata": {},
   "source": [
    "Clearly define a problem or an idea of your choice, where you would need to leverage the Foursquare location data to solve or execute. Remember that data science problems always target an audience and are meant to help a group of stakeholders solve a problem, so make sure that you explicitly describe your audience and why they would care about your problem.\n",
    "\n",
    "---"
   ]
  },
  {
   "cell_type": "markdown",
   "metadata": {},
   "source": [
    "Since we have already got an interesting data set and inspiration from the previous week question, I will continue using the toronto data and explore more about the city. <br>\n",
    "**My project will use the Foursquare location data on Toronto to find the area: **<br>\n",
    "- Young people like to date.\n",
    "- People concerning health important want to live.\n",
    "- Restaurant place.\n",
    "- Tourist area\n",
    "- etc. <br>\n",
    "This project should help the real estate agencies who are helping people find the best place to live or open a business, people who are struggling to find a fun place to hang out, the old who are retired and want to live a new life and etc."
   ]
  },
  {
   "cell_type": "markdown",
   "metadata": {},
   "source": [
    "---\n",
    "Describe the data that you will be using to solve the problem or execute your idea. Remember that you will need to use the Foursquare location data to solve the problem or execute your idea. You can absolutely use other datasets in combination with the Foursquare location data. So make sure that you provide adequate explanation and discussion, with examples, of the data that you will be using, even if it is only Foursquare location data."
   ]
  },
  {
   "cell_type": "markdown",
   "metadata": {},
   "source": [
    "---\n",
    "Here we will use the data that we obtain from the url previously, and the location data from Foursquare. <br>\n",
    "The main idea is to find the top venue types for each area and doing clustering with their top features to find similarities. <br>\n",
    "Since it's a clustering problem, I will use K-means here.<br>\n",
    "Also, data preprocessing should be used here as well. My plan is to create a dummies matrix and try to see if I need to standardize it into probabilities. Correlation may also be used here."
   ]
  },
  {
   "cell_type": "code",
   "execution_count": null,
   "metadata": {
    "collapsed": true
   },
   "outputs": [],
   "source": []
  }
 ],
 "metadata": {
  "kernelspec": {
   "display_name": "Python 3",
   "language": "python",
   "name": "python3"
  },
  "language_info": {
   "codemirror_mode": {
    "name": "ipython",
    "version": 3
   },
   "file_extension": ".py",
   "mimetype": "text/x-python",
   "name": "python",
   "nbconvert_exporter": "python",
   "pygments_lexer": "ipython3",
   "version": "3.6.0"
  }
 },
 "nbformat": 4,
 "nbformat_minor": 2
}
